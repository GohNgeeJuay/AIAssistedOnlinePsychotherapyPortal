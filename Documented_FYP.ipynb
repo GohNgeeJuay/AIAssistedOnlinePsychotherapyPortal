{
  "nbformat": 4,
  "nbformat_minor": 0,
  "metadata": {
    "accelerator": "GPU",
    "colab": {
      "name": "Documented FYP.ipynb",
      "provenance": [],
      "collapsed_sections": [],
      "include_colab_link": true
    },
    "kernelspec": {
      "display_name": "Python 3",
      "name": "python3"
    },
    "language_info": {
      "name": "python"
    }
  },
  "cells": [
    {
      "cell_type": "markdown",
      "metadata": {
        "id": "view-in-github",
        "colab_type": "text"
      },
      "source": [
        "<a href=\"https://colab.research.google.com/github/GohNgeeJuay/AIAssistedOnlinePsychotherapyPortal/blob/main/Documented_FYP.ipynb\" target=\"_parent\"><img src=\"https://colab.research.google.com/assets/colab-badge.svg\" alt=\"Open In Colab\"/></a>"
      ]
    },
    {
      "cell_type": "markdown",
      "metadata": {
        "id": "X9Eh89n91c1M"
      },
      "source": [
        "This notebook will explain the steps we did for the Deep Learning FER. "
      ]
    },
    {
      "cell_type": "markdown",
      "metadata": {
        "id": "EI-W_g-y1wXT"
      },
      "source": [
        "The dataset which we will be using is from Khan et al:\n",
        "\n",
        "1) https://link.springer.com/chapter/10.1007/978-3-319-27863-6_28\n",
        "Automatic Affect Analysis: From Children to Adults.\n",
        "Rizwan Ahmed Khan, Alexandre Meyer, Saida Bouakaz.\n",
        "International Symposium on Visual Computing: ISVC 2015.\n",
        "\n",
        "This dataset contains the children images which we are going to use for our training. \n"
      ]
    },
    {
      "cell_type": "markdown",
      "metadata": {
        "id": "7RRGGgVb3RWZ"
      },
      "source": [
        "We will also use Keras-VGGFace2-ResNet50 trained model for our fine tuning stage.\n",
        "\n",
        "2) From: https://github.com/WeidiXie/Keras-VGGFace2-ResNet50. \n",
        "Cao18,\n",
        "author       = \"Q. Cao, L. Shen, W. Xie, O. M. Parkhi, A. Zisserman \",\n",
        "title        = \"VGGFace2: A dataset for recognising face across pose and age\",\n",
        "booktitle    = \"International Conference on Automatic Face and Gesture Recognition, 2018.\",\n",
        "year         = \"2018\",\n"
      ]
    },
    {
      "cell_type": "markdown",
      "metadata": {
        "id": "_aMydX7Z3t1j"
      },
      "source": [
        "The architecture for our DL is inspired by:\n",
        "\n",
        "3) Kuo, C., Lai, S., & Sarkis,M. (2018). A Compact Deep Learning Model for Robust Facial Expression Recognition. *2018 IEEE/CVF Conference on Computer Vision and Pattern Recognition Workshops (CVPRW), 2018*, 2202-2210, doi: 10.1109/CVPRW.2018.00286."
      ]
    },
    {
      "cell_type": "markdown",
      "metadata": {
        "id": "1PY9MD346iI2"
      },
      "source": [
        "First steps are to preprocess the dataset for our use case. "
      ]
    },
    {
      "cell_type": "markdown",
      "metadata": {
        "id": "n2q8qlwjTrV1"
      },
      "source": [
        "#1) Preprocessing"
      ]
    },
    {
      "cell_type": "markdown",
      "metadata": {
        "id": "z76lzN4762_O"
      },
      "source": [
        "We worked collaboratively, so we store the dataset in our shared drive. Any work that we do in this shared google colab is sync with our shared drives"
      ]
    },
    {
      "cell_type": "code",
      "metadata": {
        "id": "v_3NGGcUO1m-",
        "colab": {
          "base_uri": "https://localhost:8080/"
        },
        "outputId": "1949c89b-f10a-447a-a4ce-de38d2613e9a"
      },
      "source": [
        "#Sometimes need to flush and unmount to refresh the files in google colab\n",
        "from google.colab.drive import flush_and_unmount\n",
        "flush_and_unmount()"
      ],
      "execution_count": null,
      "outputs": [
        {
          "output_type": "stream",
          "text": [
            "Drive not mounted, so nothing to flush and unmount.\n"
          ],
          "name": "stdout"
        }
      ]
    },
    {
      "cell_type": "code",
      "metadata": {
        "colab": {
          "base_uri": "https://localhost:8080/"
        },
        "id": "vcADtqlCsYRJ",
        "outputId": "aca19d52-c9b8-43a7-fd8b-37aafa6e21c9"
      },
      "source": [
        "#Reference https://stackoverflow.com/questions/46986398/import-data-into-google-colaboratory\n",
        "#Mount the drive to access the files\n",
        "from google.colab import drive\n",
        "\n",
        "drive.mount('/content/drive')"
      ],
      "execution_count": null,
      "outputs": [
        {
          "output_type": "stream",
          "text": [
            "Mounted at /content/drive\n"
          ],
          "name": "stdout"
        }
      ]
    },
    {
      "cell_type": "markdown",
      "metadata": {
        "id": "aIwR2SbX7VxV"
      },
      "source": [
        "We can also enable the google colab's gpu. Unfortunately this GPU is limited so we used GPULab for our training stage."
      ]
    },
    {
      "cell_type": "code",
      "metadata": {
        "colab": {
          "base_uri": "https://localhost:8080/"
        },
        "id": "zzAkilrKVPpx",
        "outputId": "f150bc97-f997-4fea-f1aa-db746baf80c5"
      },
      "source": [
        "import tensorflow as tf #Make sure GPU is enabled\n",
        "device_name = tf.test.gpu_device_name()\n",
        "if device_name != '/device:GPU:0':\n",
        "  raise SystemError('GPU device not found')\n",
        "print('Found GPU at: {}'.format(device_name))"
      ],
      "execution_count": null,
      "outputs": [
        {
          "output_type": "stream",
          "text": [
            "Found GPU at: /device:GPU:0\n"
          ],
          "name": "stdout"
        }
      ]
    },
    {
      "cell_type": "markdown",
      "metadata": {
        "id": "zFT6YhkbTsu9"
      },
      "source": [
        "## 1.1) Load and and investigate format of the input data"
      ]
    },
    {
      "cell_type": "markdown",
      "metadata": {
        "id": "6ytQSqUk7-tb"
      },
      "source": [
        "Next we need to investigate the data to see what we are working with."
      ]
    },
    {
      "cell_type": "code",
      "metadata": {
        "colab": {
          "base_uri": "https://localhost:8080/"
        },
        "id": "HkhjR6jJ7SYy",
        "outputId": "788f916d-7c53-4eb4-b017-4d36ddc2541a"
      },
      "source": [
        "#Import libraries and check version\n",
        "import sys\n",
        "import cv2\n",
        "print(cv2.__version__)\n",
        "print(sys.version)\n",
        "import pathlib\n",
        "import os\n",
        "import numpy as np\n"
      ],
      "execution_count": null,
      "outputs": [
        {
          "output_type": "stream",
          "text": [
            "4.1.2\n",
            "3.7.11 (default, Jul  3 2021, 18:01:19) \n",
            "[GCC 7.5.0]\n"
          ],
          "name": "stdout"
        }
      ]
    },
    {
      "cell_type": "code",
      "metadata": {
        "id": "iTNHzLqh8j-J"
      },
      "source": [
        "#Load the video from the drive\n",
        "test_video = cv2.VideoCapture('/content/drive/Shareddrives/Final Year Project/CS 2/LIRIS-CSE/LIRISChildrenSpontaneousFacialExpressionVideoDatabase/LIRISChildrenSpontaneousFacialExpressionVideoDatabase/videos_208/S1_disgust_1.mp4')"
      ],
      "execution_count": null,
      "outputs": []
    },
    {
      "cell_type": "code",
      "metadata": {
        "colab": {
          "base_uri": "https://localhost:8080/"
        },
        "id": "yzGxlYlVGd5Q",
        "outputId": "871f794a-800a-4470-917c-c4b109fb48e9"
      },
      "source": [
        "# Find the number of frames for the test video\n",
        "video_length = int(test_video.get(cv2.CAP_PROP_FRAME_COUNT)) - 1\n",
        "print (\"Number of frames: \", video_length)"
      ],
      "execution_count": null,
      "outputs": [
        {
          "output_type": "stream",
          "text": [
            "Number of frames:  197\n"
          ],
          "name": "stdout"
        }
      ]
    },
    {
      "cell_type": "markdown",
      "metadata": {
        "id": "gRo-KIBhB-GC"
      },
      "source": [
        "## 1.2) Split the video into frames"
      ]
    },
    {
      "cell_type": "markdown",
      "metadata": {
        "id": "AS5Ht2Yz-_S_"
      },
      "source": [
        "We will input the video as still frames (pictures) into the network. Frames are extracted every 1/6 second."
      ]
    },
    {
      "cell_type": "code",
      "metadata": {
        "id": "IOFPRkYnDNq9"
      },
      "source": [
        "#Function to split the video into frames\n",
        "#Reference: https://stackoverflow.com/questions/33311153/python-extracting-and-saving-video-frames\n",
        "def extractImages(pathIn, pathOut):\n",
        "    count = 0\n",
        "    vidcap = cv2.VideoCapture(pathIn)\n",
        "    success,image = vidcap.read()    #Grabs, decodes and returns the next video frame.\n",
        "    success = True\n",
        "    while success:\n",
        "        vidcap.set(cv2.CAP_PROP_POS_MSEC,(count*167))    # added this line. set() = set a property in video capture #0.167 for 6 frames per sec\n",
        "        #CAP_PROP_POS_MSEC = Current position of the video file in milliseconds.\n",
        "        success,image = vidcap.read()\n",
        "        #print ('Read a new frame: ', success)\n",
        "        if success == True:    #If have read in a new frame\n",
        "          cv2.imwrite( pathOut + \"/frame_%d_.jpg\" % count, image)     # THE CHANGE IS HERE\n",
        "        count = count + 1"
      ],
      "execution_count": null,
      "outputs": []
    },
    {
      "cell_type": "markdown",
      "metadata": {
        "id": "xIIXVcsvFO5K"
      },
      "source": [
        "We will call the function above and slice our images and store it in our drive folder. "
      ]
    },
    {
      "cell_type": "code",
      "metadata": {
        "id": "dL0G1BnaRL6r"
      },
      "source": [
        "#Loop through video folder and create the sliced images\n",
        "#Reference: https://newbedev.com/how-to-iterate-over-files-in-a-given-directory\n",
        "directory = \"/content/drive/Shareddrives/Final Year Project/CS 2/LIRIS-CSE/LIRISChildrenSpontaneousFacialExpressionVideoDatabase/LIRISChildrenSpontaneousFacialExpressionVideoDatabase/videos_208\"\n",
        "for videoName in os.listdir(directory):\n",
        "\n",
        "  sourceVideoDirectory = os.path.join(directory, videoName) \n",
        "  targetVideoDirectory = os.path.join(\"/content/drive/Shareddrives/Final Year Project/CS 2/LIRIS-CSE/SlicedImages/\", videoName)\n",
        "  \n",
        "  #Create the target video directory if does not exist. Reference: https://stackoverflow.com/questions/273192/how-can-i-safely-create-a-nested-directory-in-python\n",
        "  pathlib.Path(targetVideoDirectory).mkdir(parents=True, exist_ok=True)\n",
        "\n",
        "  #Split the video into frames. \n",
        "  extractImages(sourceVideoDirectory, targetVideoDirectory)\n",
        "\n",
        "  print(\"Done processing\" + str(videoName))\n"
      ],
      "execution_count": null,
      "outputs": []
    },
    {
      "cell_type": "markdown",
      "metadata": {
        "id": "0CuDVtjRCPAk"
      },
      "source": [
        "We also tried to see if we can removed the neutral expression frames from the videos. Given that LIRIS-CSE contains videos that are not peak expression, it might contain frames where there are neutral expression. \n",
        "\n",
        "This is not used because the FER used here failed to detect expressions. Possible reasons could include that these FER are trained on posed and peak expressions. We will just proceed with the next preprocessing step."
      ]
    },
    {
      "cell_type": "code",
      "metadata": {
        "id": "3xeY3fSta4S7"
      },
      "source": [
        "#Testing whether can only get the faces with the desired emotion in the frames. \n",
        "#Reference: https://analyticsindiamag.com/face-emotion-recognizer-in-6-lines-of-code/\n",
        "!pip install fer"
      ],
      "execution_count": null,
      "outputs": []
    },
    {
      "cell_type": "code",
      "metadata": {
        "id": "ZjKAz8pFbHFE"
      },
      "source": [
        "from fer import FER\n",
        "import matplotlib.pyplot as plt \n",
        "import os\n",
        "\n",
        "rootdir = \"/content/drive/Shareddrives/Final Year Project/CS 2/LIRIS-CSE/Backup/S1_disgust_1.mp4\"\n",
        "for subdir, dirs, files in os.walk(rootdir):\n",
        "  for file in files:\n",
        "    print(file)\n",
        "    img = plt.imread(os.path.join(subdir,file))\n",
        "    detector = FER(mtcnn=True)\n",
        "    print(detector.detect_emotions(img))\n",
        "    plt.imshow(img)\n"
      ],
      "execution_count": null,
      "outputs": []
    },
    {
      "cell_type": "code",
      "metadata": {
        "id": "WaYgh746ho3b"
      },
      "source": [
        "rootdir = \"/content/drive/Shareddrives/Final Year Project/CS 2/LIRIS-CSE/Images/S5_surprise_1.mp4\"\n",
        "for subdir, dirs, files in os.walk(rootdir):\n",
        "  for file in files:\n",
        "    print(file)\n",
        "    img = plt.imread(os.path.join(subdir,file))\n",
        "    detector = FER(mtcnn=True)\n",
        "    print(detector.detect_emotions(img))\n",
        "    plt.imshow(img)"
      ],
      "execution_count": null,
      "outputs": []
    },
    {
      "cell_type": "markdown",
      "metadata": {
        "id": "UypkOf0oiHba"
      },
      "source": [
        "#1.2) Extracting face from image and resizing"
      ]
    },
    {
      "cell_type": "markdown",
      "metadata": {
        "id": "DCxxeqQmCC_n"
      },
      "source": [
        "Next, we will extract the faces from the sliced images and resize them to fit the input of our network. The face extraction should help eliminate the background which can improve the accuracy. \n",
        "\n",
        "The trained network we are using takes input of (224,224,3) which means each image needs to have height of 224, width of 224 and it has 3 channels (rgb color). "
      ]
    },
    {
      "cell_type": "code",
      "metadata": {
        "id": "CZPC2InBLwU8"
      },
      "source": [
        "#Reference: https://www.geeksforgeeks.org/cropping-faces-from-images-using-opencv-python/\n",
        "#Kuo et al used alpha = 1.05 for extracting faces\n",
        "from google.colab.patches import cv2_imshow\n",
        "def extract_face_2(image_path, destination_path, min_size):\n",
        "  '''\n",
        "  image_path = Path to the image to extract the image\n",
        "  destination_path = Path to the destination where the extracted image will be stored \n",
        "  '''\n",
        "\n",
        "  img = cv2.imread(image_path)\n",
        "\n",
        "  # Convert into grayscale\n",
        "  gray = cv2.cvtColor(img, cv2.COLOR_BGR2GRAY)\n",
        "\n",
        "  face_cascade = cv2.CascadeClassifier(cv2.data.haarcascades + 'haarcascade_frontalface_default.xml')\n",
        "  \n",
        "\n",
        "  faces = face_cascade.detectMultiScale(gray, scaleFactor = 1.05, minNeighbors = 5, minSize= min_size )\n",
        "  for (x, y, w, h) in faces:\n",
        "    faces = img[y:y + h, x:x + w]\n",
        "    cv2.imwrite(destination_path, faces)\n",
        "  "
      ],
      "execution_count": null,
      "outputs": []
    },
    {
      "cell_type": "code",
      "metadata": {
        "id": "iaSsmaMrlLkT"
      },
      "source": [
        "#Extract the faces from all the images\n",
        "rootSourceDir = \"/content/drive/Shareddrives/Final Year Project/CS 2/LIRIS-CSE/SlicedImages\"\n",
        "rootTargetDir = rootSourceDir+\"Extracted\"\n",
        "\n",
        "pathlib.Path(rootTargetDir).mkdir(parents=True, exist_ok=True) \n",
        "\n",
        "flag = False\n",
        "\n",
        "for subdir, dirs, files in os.walk(rootSourceDir):\n",
        "  if \"S12\" in subdir or \"S11\" in subdir or \"S4\" in subdir: \n",
        "    flag = True\n",
        "\n",
        "  for file in files:\n",
        "    \n",
        "    #Get the folder name only. Reference: https://www.studytonight.com/python-howtos/how-to-get-the-last-part-of-the-path-in-python\n",
        "    folderName = os.path.basename(os.path.normpath(subdir))\n",
        "\n",
        "    #Make the target folder if does not exist\n",
        "    targetFolder = os.path.join(rootTargetDir, folderName)\n",
        "    if os.path.isdir(targetFolder) == False:\n",
        "      pathlib.Path(targetFolder).mkdir(parents=True, exist_ok=True) \n",
        "\n",
        "    # Detect faces (S12, S11, S4 uses minSize = (200,200), rest use minSize = (150, 150)). Some subjects require different parameters. \n",
        "    if flag == True:\n",
        "      extract_face_2(os.path.join(subdir,file), os.path.join(targetFolder, file), (200,200))\n",
        "    else:\n",
        "      extract_face_2(os.path.join(subdir,file), os.path.join(targetFolder, file), (150,150))\n",
        "\n"
      ],
      "execution_count": null,
      "outputs": []
    },
    {
      "cell_type": "code",
      "metadata": {
        "id": "8QIy_BddHJQB"
      },
      "source": [
        "#Resizing all the images to 224x224 (required to input into the trained neural network)\n",
        "\n",
        "#Reference: https://pythonexamples.org/python-opencv-cv2-resize-image/\n",
        "rootSourceDir = \"/content/drive/Shareddrives/Final Year Project/CS 2/LIRIS-CSE/SlicedImagesExtracted\"\n",
        "rootTargetDir = rootSourceDir+\"Resized\"\n",
        "\n",
        "pathlib.Path(rootTargetDir).mkdir(parents=True, exist_ok=True) \n",
        "for subdir, dirs, files in os.walk(rootSourceDir):\n",
        "  for file in files:\n",
        "\n",
        "    #Get the folder name only. Reference: https://www.studytonight.com/python-howtos/how-to-get-the-last-part-of-the-path-in-python\n",
        "    folderName = os.path.basename(os.path.normpath(subdir))\n",
        "\n",
        "    #Make the target folder if does not exist\n",
        "    targetFolder = os.path.join(rootTargetDir, folderName)\n",
        "    if os.path.isdir(targetFolder) == False:\n",
        "      pathlib.Path(targetFolder).mkdir(parents=True, exist_ok=True) \n",
        "\n",
        "\n",
        "    image = cv2.imread(os.path.join(subdir,file))\n",
        "    image = cv2.resize(image, (224,224),interpolation = cv2.INTER_AREA)\n",
        "    \n",
        "    cv2.imwrite(os.path.join(targetFolder,file), image) "
      ],
      "execution_count": null,
      "outputs": []
    },
    {
      "cell_type": "markdown",
      "metadata": {
        "id": "ie1O5bLlaW3I"
      },
      "source": [
        "# 1.3) Data Duplication & Augmentation\n"
      ]
    },
    {
      "cell_type": "markdown",
      "metadata": {
        "id": "PYaiV56dD8LP"
      },
      "source": [
        "Now we need to perform data duplication. One way to deal with unbalanced datasets(where the class labels are not evenly disbributed) is to use class weights during the fit function in training process. \n",
        "\n",
        "Another way is to duplicate the number of images so that the data per class are even. We will be using this because we want to ensure our total number of images per class are multiple of 6 (to input into the network which is inspired by Kuo et al. ) This will be explain later. \n",
        "\n"
      ]
    },
    {
      "cell_type": "code",
      "metadata": {
        "id": "_ToofsacaWZc"
      },
      "source": [
        "# Run this\n",
        "import pandas as pd\n",
        "import numpy as np\n",
        "import matplotlib.pyplot as plt\n",
        "import seaborn as sns\n",
        "import tensorflow as tf\n",
        "from tensorflow.keras import layers\n",
        "import keras\n",
        "from glob import glob, iglob\n",
        "import os\n",
        "from sklearn.metrics import confusion_matrix\n",
        "import itertools\n",
        "import pickle\n",
        "from matplotlib.ticker import MaxNLocator\n",
        "import operator\n",
        "from decimal import Decimal\n",
        "from sklearn.model_selection import train_test_split\n",
        "import shutil"
      ],
      "execution_count": null,
      "outputs": []
    },
    {
      "cell_type": "code",
      "metadata": {
        "colab": {
          "base_uri": "https://localhost:8080/"
        },
        "id": "eNfvpQ-8Ky-h",
        "outputId": "00b34205-07fd-4b85-a44c-71435611f89a"
      },
      "source": [
        "print(tf.__version__)"
      ],
      "execution_count": null,
      "outputs": [
        {
          "output_type": "stream",
          "text": [
            "2.6.0\n"
          ],
          "name": "stdout"
        }
      ]
    },
    {
      "cell_type": "markdown",
      "metadata": {
        "id": "nn0_WfSKGVnf"
      },
      "source": [
        "This is for data duplication. We will copy the last image until it reach a multiple of 6. This could arguably affect the accuracy seeing that we have images that are the same (the last few frames) but we don't expect it to affect our accuracy that much. Each frame is 1/6 sec later from the previous frame. Worst case scenario is that we have to duplicate 5 images. It is still plausible that a person may hold an expression for one second."
      ]
    },
    {
      "cell_type": "code",
      "metadata": {
        "id": "aT6wySz_Dmfz"
      },
      "source": [
        "rootdir = \"/content/drive/Shareddrives/Final Year Project/CS 2/LIRIS-CSE/SlicedImagesExtractedResized\"\n",
        "\n",
        "for subdir, dirs, files in os.walk(rootdir):\n",
        "  n = len(files)\n",
        "  # Calculate the # of duplicate needed\n",
        "  \n",
        "  if n % 6 != 0:\n",
        "    latest_file = files[-1]\n",
        "    latest_file_list = latest_file.split(\"_\") \n",
        "    latest_file_num = int(latest_file_list[1]) + 1 \n",
        "    latest_file_path = os.path.join(subdir,latest_file) # copy path\n",
        "    duplicate_num = 6 - (n%6)\n",
        "\n",
        "    for i in range(duplicate_num):\n",
        "      file_name = \"frame_%d_.jpg\" % latest_file_num # CHANGE OF FILE NAME\n",
        "\n",
        "\n",
        "      target_path = os.path.join(subdir,file_name)\n",
        "      # copy file\n",
        "      shutil.copyfile(latest_file_path, target_path)\n",
        "\n",
        "      latest_file_num += 1 "
      ],
      "execution_count": null,
      "outputs": []
    },
    {
      "cell_type": "markdown",
      "metadata": {
        "id": "LvgCUz_baM91"
      },
      "source": [
        "These code blocks below is to create the initial dataset."
      ]
    },
    {
      "cell_type": "code",
      "metadata": {
        "colab": {
          "base_uri": "https://localhost:8080/",
          "height": 203
        },
        "id": "uOGBY6b5aPAy",
        "outputId": "86489690-1dd7-4584-d68b-0cb6049b1bc3"
      },
      "source": [
        "# Create a dataframe containing complete path, dataset, label and folder, filename\n",
        "df = {'complete_path' : [], 'label' : [], 'file_name' : []}\n",
        "images_path = \"/content/drive/Shareddrives/Final Year Project/CS 2/LIRIS-CSE/SlicedImagesExtractedResized\"\n",
        "folder_list = os.listdir(images_path)\n",
        "\n",
        "for i in range(1, len(folder_list)):\n",
        "  image_path = os.path.join(images_path,folder_list[i])\n",
        "  # label\n",
        "  label = folder_list[i].split('_')\n",
        "  if '.' not in label[1]:\n",
        "    label = label[1].lower()\n",
        "  else:\n",
        "    label[1] = label[1].split('.')\n",
        "    label = label[1][0].lower()\n",
        "\n",
        "  if label == \"suprise\":\n",
        "    label = \"surprise\"\n",
        "  \n",
        "  for subdir, dirs, files in os.walk(image_path):\n",
        "    for file in files:\n",
        "      file_path = os.path.join(image_path,file)\n",
        "      #print(file_path)\n",
        "      df['complete_path'].append(file_path)\n",
        "      df['label'].append(label)\n",
        "      df['file_name'].append(os.path.join(folder_list[i], file))\n",
        "\n",
        "df = pd.DataFrame(data = df)\n",
        "df.head(5)"
      ],
      "execution_count": null,
      "outputs": [
        {
          "output_type": "execute_result",
          "data": {
            "text/html": [
              "<div>\n",
              "<style scoped>\n",
              "    .dataframe tbody tr th:only-of-type {\n",
              "        vertical-align: middle;\n",
              "    }\n",
              "\n",
              "    .dataframe tbody tr th {\n",
              "        vertical-align: top;\n",
              "    }\n",
              "\n",
              "    .dataframe thead th {\n",
              "        text-align: right;\n",
              "    }\n",
              "</style>\n",
              "<table border=\"1\" class=\"dataframe\">\n",
              "  <thead>\n",
              "    <tr style=\"text-align: right;\">\n",
              "      <th></th>\n",
              "      <th>complete_path</th>\n",
              "      <th>label</th>\n",
              "      <th>file_name</th>\n",
              "    </tr>\n",
              "  </thead>\n",
              "  <tbody>\n",
              "    <tr>\n",
              "      <th>0</th>\n",
              "      <td>/content/drive/Shareddrives/Final Year Project...</td>\n",
              "      <td>surprise</td>\n",
              "      <td>S10_surprise.mp4/frame0.jpg</td>\n",
              "    </tr>\n",
              "    <tr>\n",
              "      <th>1</th>\n",
              "      <td>/content/drive/Shareddrives/Final Year Project...</td>\n",
              "      <td>surprise</td>\n",
              "      <td>S10_surprise.mp4/frame1.jpg</td>\n",
              "    </tr>\n",
              "    <tr>\n",
              "      <th>2</th>\n",
              "      <td>/content/drive/Shareddrives/Final Year Project...</td>\n",
              "      <td>surprise</td>\n",
              "      <td>S10_surprise.mp4/frame2.jpg</td>\n",
              "    </tr>\n",
              "    <tr>\n",
              "      <th>3</th>\n",
              "      <td>/content/drive/Shareddrives/Final Year Project...</td>\n",
              "      <td>surprise</td>\n",
              "      <td>S10_surprise.mp4/frame3.jpg</td>\n",
              "    </tr>\n",
              "    <tr>\n",
              "      <th>4</th>\n",
              "      <td>/content/drive/Shareddrives/Final Year Project...</td>\n",
              "      <td>surprise</td>\n",
              "      <td>S10_surprise.mp4/frame4.jpg</td>\n",
              "    </tr>\n",
              "  </tbody>\n",
              "</table>\n",
              "</div>"
            ],
            "text/plain": [
              "                                       complete_path  ...                    file_name\n",
              "0  /content/drive/Shareddrives/Final Year Project...  ...  S10_surprise.mp4/frame0.jpg\n",
              "1  /content/drive/Shareddrives/Final Year Project...  ...  S10_surprise.mp4/frame1.jpg\n",
              "2  /content/drive/Shareddrives/Final Year Project...  ...  S10_surprise.mp4/frame2.jpg\n",
              "3  /content/drive/Shareddrives/Final Year Project...  ...  S10_surprise.mp4/frame3.jpg\n",
              "4  /content/drive/Shareddrives/Final Year Project...  ...  S10_surprise.mp4/frame4.jpg\n",
              "\n",
              "[5 rows x 3 columns]"
            ]
          },
          "metadata": {
            "tags": []
          },
          "execution_count": 6
        }
      ]
    },
    {
      "cell_type": "code",
      "metadata": {
        "id": "5MPftxLuEIe-"
      },
      "source": [
        "# Create a dataframe containing complete path, dataset, label and folder, filename\n",
        "df = {'complete_path' : [], 'label' : [], 'folder_file': [], 'folder_name' : [], 'file_code':[]}\n",
        "images_path = \"/content/drive/Shareddrives/Final Year Project/CS 2/LIRIS-CSE/SlicedImagesGrcExtractedResized\"\n",
        "folder_list = os.listdir(images_path)\n",
        "\n",
        "for i in range(1, len(folder_list)):\n",
        "  image_path = os.path.join(images_path,folder_list[i])\n",
        "  # label\n",
        "  label = folder_list[i].split('_')\n",
        "  if '.' not in label[1]:\n",
        "    label = label[1].lower()\n",
        "  else:\n",
        "    label[1] = label[1].split('.')\n",
        "    label = label[1][0].lower()\n",
        "\n",
        "  if label == \"suprise\":\n",
        "    label = \"surprise\"\n",
        "  \n",
        "  for subdir, dirs, files in os.walk(image_path):\n",
        "    for file in files:\n",
        "      file_name_list = file.split(\"_\")\n",
        "      file_path = os.path.join(image_path,file)\n",
        "\n",
        "      df['complete_path'].append(file_path)\n",
        "      df['label'].append(label)\n",
        "      df['folder_name'].append(os.path.join(folder_list[i])) \n",
        "      df['folder_file'].append(os.path.join(folder_list[i], file))\n",
        "      df['file_code'].append(int(file_name_list[1]))\n",
        "      \n",
        "\n",
        "df = pd.DataFrame(data = df)\n",
        "df.head(5)"
      ],
      "execution_count": null,
      "outputs": []
    },
    {
      "cell_type": "code",
      "metadata": {
        "id": "VNud5KinE85V"
      },
      "source": [
        "#We will need to sort the images such that images belonging to a category will be together. This will be useful during our training \n",
        "#where we want to input batches of images that are the same category. \n",
        "\n",
        "df.sort_values(['folder_name', 'file_code'], ascending=[True, True], inplace=True)"
      ],
      "execution_count": null,
      "outputs": []
    },
    {
      "cell_type": "code",
      "metadata": {
        "id": "VEPFLh_9a1Lf"
      },
      "source": [
        "# Observe the data \n",
        "num_pics_per_class = 7\n",
        "num_of_classes = df.label.nunique()\n",
        "classes = list(df.label.unique())\n",
        "\n",
        "fig, ax = plt.subplots(nrows=num_of_classes, ncols=num_pics_per_class, figsize=(21, 3*num_of_classes))\n",
        "ax=ax.ravel()\n",
        "for row_no, label in enumerate(classes):\n",
        "    for i in range(num_pics_per_class):\n",
        "        try:\n",
        "            image = df[df['label']==label].iloc[i].complete_path\n",
        "        except:\n",
        "            print(label, i)\n",
        "        image_string = tf.io.read_file(image)\n",
        "        image_decoded = tf.image.decode_jpeg(image_string, channels=3)\n",
        "        axis = i + row_no * num_pics_per_class\n",
        "        ax[axis].set_title(label)\n",
        "        ax[axis].imshow(image_decoded)\n",
        "        ax[axis].set_xticklabels('')\n",
        "        ax[axis].set_yticklabels('')\n",
        "plt.tight_layout\n",
        "plt.show();"
      ],
      "execution_count": null,
      "outputs": []
    },
    {
      "cell_type": "code",
      "metadata": {
        "colab": {
          "base_uri": "https://localhost:8080/"
        },
        "id": "xGjFvYrUa4JX",
        "outputId": "412818fd-bc42-4e7b-8f3b-2984fe49f0bf"
      },
      "source": [
        "# Create conversion from label to integer class\n",
        "label_to_class = dict((key, value) for value, key in enumerate(sorted(df.label.unique())))\n",
        "label_to_class"
      ],
      "execution_count": null,
      "outputs": [
        {
          "output_type": "execute_result",
          "data": {
            "text/plain": [
              "{'anger': 0,\n",
              " 'confusing': 1,\n",
              " 'disgust': 2,\n",
              " 'fear': 3,\n",
              " 'happy': 4,\n",
              " 'sad': 5,\n",
              " 'surprise': 6}"
            ]
          },
          "metadata": {
            "tags": []
          },
          "execution_count": 7
        }
      ]
    },
    {
      "cell_type": "code",
      "metadata": {
        "colab": {
          "base_uri": "https://localhost:8080/"
        },
        "id": "hUxPsDEAa5_n",
        "outputId": "52f53760-38ff-4ff9-c600-57ccf658c7bd"
      },
      "source": [
        "class_to_label = dict((key, value) for key, value in enumerate(sorted(df.label.unique())))\n",
        "class_to_label"
      ],
      "execution_count": null,
      "outputs": [
        {
          "output_type": "execute_result",
          "data": {
            "text/plain": [
              "{0: 'anger',\n",
              " 1: 'confusing',\n",
              " 2: 'disgust',\n",
              " 3: 'fear',\n",
              " 4: 'happy',\n",
              " 5: 'sad',\n",
              " 6: 'surprise'}"
            ]
          },
          "metadata": {
            "tags": []
          },
          "execution_count": 8
        }
      ]
    },
    {
      "cell_type": "code",
      "metadata": {
        "id": "dItZvktXbLOy"
      },
      "source": [
        "num_of_classes = len(class_to_label)"
      ],
      "execution_count": null,
      "outputs": []
    },
    {
      "cell_type": "code",
      "metadata": {
        "colab": {
          "base_uri": "https://localhost:8080/",
          "height": 203
        },
        "id": "hXo9EvRbbcIC",
        "outputId": "cff15e53-4d07-455c-85fd-2ceb27814d7a"
      },
      "source": [
        "# Convert the label to integer class and imputed it into the dataframe\n",
        "def converter(string, label_to_class):\n",
        "    switcher = label_to_class\n",
        "    return switcher.get(string, \"Invalid class\")\n",
        "\n",
        "df['class'] = df.apply(lambda x: converter(x['label'], label_to_class), axis=1)\n",
        "df.head(5)"
      ],
      "execution_count": null,
      "outputs": [
        {
          "output_type": "execute_result",
          "data": {
            "text/html": [
              "<div>\n",
              "<style scoped>\n",
              "    .dataframe tbody tr th:only-of-type {\n",
              "        vertical-align: middle;\n",
              "    }\n",
              "\n",
              "    .dataframe tbody tr th {\n",
              "        vertical-align: top;\n",
              "    }\n",
              "\n",
              "    .dataframe thead th {\n",
              "        text-align: right;\n",
              "    }\n",
              "</style>\n",
              "<table border=\"1\" class=\"dataframe\">\n",
              "  <thead>\n",
              "    <tr style=\"text-align: right;\">\n",
              "      <th></th>\n",
              "      <th>complete_path</th>\n",
              "      <th>label</th>\n",
              "      <th>file_name</th>\n",
              "      <th>class</th>\n",
              "    </tr>\n",
              "  </thead>\n",
              "  <tbody>\n",
              "    <tr>\n",
              "      <th>0</th>\n",
              "      <td>/content/drive/Shareddrives/Final Year Project...</td>\n",
              "      <td>surprise</td>\n",
              "      <td>S10_surprise.mp4/frame0.jpg</td>\n",
              "      <td>6</td>\n",
              "    </tr>\n",
              "    <tr>\n",
              "      <th>1</th>\n",
              "      <td>/content/drive/Shareddrives/Final Year Project...</td>\n",
              "      <td>surprise</td>\n",
              "      <td>S10_surprise.mp4/frame1.jpg</td>\n",
              "      <td>6</td>\n",
              "    </tr>\n",
              "    <tr>\n",
              "      <th>2</th>\n",
              "      <td>/content/drive/Shareddrives/Final Year Project...</td>\n",
              "      <td>surprise</td>\n",
              "      <td>S10_surprise.mp4/frame2.jpg</td>\n",
              "      <td>6</td>\n",
              "    </tr>\n",
              "    <tr>\n",
              "      <th>3</th>\n",
              "      <td>/content/drive/Shareddrives/Final Year Project...</td>\n",
              "      <td>surprise</td>\n",
              "      <td>S10_surprise.mp4/frame3.jpg</td>\n",
              "      <td>6</td>\n",
              "    </tr>\n",
              "    <tr>\n",
              "      <th>4</th>\n",
              "      <td>/content/drive/Shareddrives/Final Year Project...</td>\n",
              "      <td>surprise</td>\n",
              "      <td>S10_surprise.mp4/frame4.jpg</td>\n",
              "      <td>6</td>\n",
              "    </tr>\n",
              "  </tbody>\n",
              "</table>\n",
              "</div>"
            ],
            "text/plain": [
              "                                       complete_path  ... class\n",
              "0  /content/drive/Shareddrives/Final Year Project...  ...     6\n",
              "1  /content/drive/Shareddrives/Final Year Project...  ...     6\n",
              "2  /content/drive/Shareddrives/Final Year Project...  ...     6\n",
              "3  /content/drive/Shareddrives/Final Year Project...  ...     6\n",
              "4  /content/drive/Shareddrives/Final Year Project...  ...     6\n",
              "\n",
              "[5 rows x 4 columns]"
            ]
          },
          "metadata": {
            "tags": []
          },
          "execution_count": 10
        }
      ]
    },
    {
      "cell_type": "code",
      "metadata": {
        "colab": {
          "base_uri": "https://localhost:8080/"
        },
        "id": "UJPLxNaTbfAd",
        "outputId": "c16c2b04-59ed-4376-8671-09c071a6dd9c"
      },
      "source": [
        "df.label.value_counts()"
      ],
      "execution_count": null,
      "outputs": [
        {
          "output_type": "execute_result",
          "data": {
            "text/plain": [
              "happy        2178\n",
              "surprise     1464\n",
              "fear         1404\n",
              "sad          1260\n",
              "disgust       246\n",
              "confusing      42\n",
              "anger          24\n",
              "Name: label, dtype: int64"
            ]
          },
          "metadata": {
            "tags": []
          },
          "execution_count": 8
        }
      ]
    },
    {
      "cell_type": "markdown",
      "metadata": {
        "id": "ECVQgIpeH7P3"
      },
      "source": [
        "As can be seen from the result of the code above, the categories for each class is not balanced and we want to data augment some of the classes to have a balanced dataset. "
      ]
    },
    {
      "cell_type": "markdown",
      "metadata": {
        "id": "xvTGirx2uQiy"
      },
      "source": [
        "Data Augmentation \n",
        "\n",
        "Here are some of the augmentation strageties we can apply to our data:\n",
        "\n",
        "1. Image width shifts: [-70,70]\n",
        "2. Imange height shift: 0.3\n",
        "2. Image horizontal flip: true\n",
        "3. Image rotation: 60\n",
        "4. Image brightness: [0.4,2.0]\n",
        "5. Image zoom: [0.7,1.0]"
      ]
    },
    {
      "cell_type": "code",
      "metadata": {
        "id": "xRBYXXAWuU3C"
      },
      "source": [
        "from numpy import expand_dims\n",
        "from keras.preprocessing.image import load_img\n",
        "from keras.preprocessing.image import img_to_array\n",
        "from keras.preprocessing.image import ImageDataGenerator\n",
        "import random"
      ],
      "execution_count": null,
      "outputs": []
    },
    {
      "cell_type": "code",
      "metadata": {
        "id": "zeW7c_RBFqEQ"
      },
      "source": [
        "def aug_img(data, filter):\n",
        "  to_return = []\n",
        "  # expand dimension to one sample\n",
        "  samples = expand_dims(data, 0)\n",
        "\n",
        "  # create image data augmentation generator\n",
        "  if filter == \"flip\":\n",
        "    datagen = ImageDataGenerator(horizontal_flip=True)\n",
        "\n",
        "  elif filter == \"width_shift\":\n",
        "    datagen = ImageDataGenerator(width_shift_range=[-70,70])\n",
        "\n",
        "  elif filter == \"height_shift\":\n",
        "    datagen = ImageDataGenerator(height_shift_range=0.3)\n",
        "\n",
        "  elif filter == \"rotation\":\n",
        "    datagen = ImageDataGenerator(rotation_range=60)\n",
        "\n",
        "  elif filter == \"brightness\":\n",
        "    datagen = ImageDataGenerator(brightness_range=[0.4,2.0])\n",
        "\n",
        "  else:\n",
        "    datagen = ImageDataGenerator(zoom_range=[0.7,1.0])\n",
        "  \n",
        "  # prepare iterator\n",
        "  it = datagen.flow(samples, batch_size=1)\n",
        "  \n",
        "  for i in range(6):\n",
        "    # generate batch of images\n",
        "    batch = it.next()\n",
        "    batch = tf.convert_to_tensor(batch, dtype = tf.uint8)\n",
        "    to_return.append(batch)\n",
        "  \n",
        "  return to_return"
      ],
      "execution_count": null,
      "outputs": []
    },
    {
      "cell_type": "code",
      "metadata": {
        "id": "bsneT_xIESQA"
      },
      "source": [
        "aug_type = ['flip', 'width_shift', 'height_shift', 'rotation', 'brightness','zoom'] #augmentation will be randomised"
      ],
      "execution_count": null,
      "outputs": []
    },
    {
      "cell_type": "code",
      "metadata": {
        "id": "_O0Xj71DNqUz"
      },
      "source": [
        "num_max = max(df.label.value_counts())\n",
        "max_label = df.groupby('label')['label'].min()[df.groupby('label')['folder_name'].count() == num_max]\n",
        "labels_to_max = [x for x in label_to_class.keys() if x not in max_label]\n",
        "num_to_max = df.groupby('label')['label'].count()[df.groupby('label')['folder_name'].count() != num_max].to_dict()\n",
        "num_to_max = list(num_to_max.values())"
      ],
      "execution_count": null,
      "outputs": []
    },
    {
      "cell_type": "code",
      "metadata": {
        "colab": {
          "base_uri": "https://localhost:8080/"
        },
        "id": "6dvXoOX7WCII",
        "outputId": "04107fdf-f498-4b77-e09e-597e4f45549d"
      },
      "source": [
        "to_return = []\n",
        "\n",
        "for i in range(len(labels_to_max)):\n",
        "  label = labels_to_max[i]\n",
        "  filtered_df = df[df['label'] == label]\n",
        "\n",
        "  filtered_df_idx = list(filtered_df.index.values.tolist())\n",
        "\n",
        "  current_num = num_to_max[i]\n",
        "\n",
        "  while current_num < num_max:\n",
        "    random_idx = random.randint(0,len(filtered_df_idx)-1)\n",
        "    row_idx = filtered_df_idx[random_idx] \n",
        "\n",
        "    img_path = df.loc[row_idx,'complete_path']\n",
        "    image_string = tf.io.read_file(img_path)\n",
        "    image_decoded = tf.image.decode_jpeg(image_string, channels=3)\n",
        "\n",
        "    # augment image\n",
        "    aug_idx = random.randint(0,len(aug_type)-1)\n",
        "    arr = aug_img(image_decoded, aug_type[aug_idx])\n",
        "\n",
        "    #num_to_max[i] = num_to_max[i] + to_add\n",
        "    current_num += 6\n",
        "\n",
        "    label_append = tf.one_hot(label_to_class[label], num_of_classes)\n",
        "    for i in range(len(arr)):\n",
        "      to_return.append((arr[i],label_append))\n",
        "      \n",
        "  print(label,\":\",current_num)"
      ],
      "execution_count": null,
      "outputs": [
        {
          "output_type": "stream",
          "text": [
            "anger : 2178\n",
            "confusing : 2178\n",
            "disgust : 2178\n",
            "fear : 2178\n",
            "sad : 2178\n",
            "surprise : 2178\n"
          ],
          "name": "stdout"
        }
      ]
    },
    {
      "cell_type": "markdown",
      "metadata": {
        "id": "DTIbIeLYIWKI"
      },
      "source": [
        "As can be seen above, our dataset is finally balanced. Now we can prepare it to feed into the network. "
      ]
    },
    {
      "cell_type": "markdown",
      "metadata": {
        "id": "SGuswkjVddkQ"
      },
      "source": [
        "Convert Original Data into np.array then combine with augmented data."
      ]
    },
    {
      "cell_type": "code",
      "metadata": {
        "id": "_9tQSmdAdRrb"
      },
      "source": [
        "filenames_list = df['complete_path'].tolist()\n",
        "labels_list = df['class'].tolist()"
      ],
      "execution_count": null,
      "outputs": []
    },
    {
      "cell_type": "code",
      "metadata": {
        "id": "_7z33J-0eIw7"
      },
      "source": [
        "def _parse_function(filename, label):\n",
        "    image_string = tf.io.read_file(filename)\n",
        "    image_decoded = tf.image.decode_jpeg(image_string, channels=3)\n",
        "    \n",
        "    label = tf.one_hot(label, num_of_classes)\n",
        "\n",
        "    return image_decoded, label\n",
        "\n",
        "# Create function to generate the dataset\n",
        "def dataset_generator(filenames, labels):\n",
        "    return tf.data.Dataset.from_tensor_slices((filenames, labels)).map(_parse_function)\n",
        "\n",
        "\n",
        "## Construct the dataset\n",
        "ori_df = dataset_generator(filenames_list, labels_list)"
      ],
      "execution_count": null,
      "outputs": []
    },
    {
      "cell_type": "code",
      "metadata": {
        "id": "QoWQxGPJLjfE"
      },
      "source": [
        "ori_data_list = list(ori_df)"
      ],
      "execution_count": null,
      "outputs": []
    },
    {
      "cell_type": "code",
      "metadata": {
        "id": "Da2qxpRaQR1C"
      },
      "source": [
        "# Combine aug data list with ori data list \n",
        "comb_df_list = ori_data_list + to_return"
      ],
      "execution_count": null,
      "outputs": []
    },
    {
      "cell_type": "code",
      "metadata": {
        "id": "HjDLhhy1QPsu"
      },
      "source": [
        "comb_df = pd.DataFrame(comb_df_list, columns=['image_arr', 'label_arr'])   "
      ],
      "execution_count": null,
      "outputs": []
    },
    {
      "cell_type": "code",
      "metadata": {
        "id": "-Ag3JqATjJ9p"
      },
      "source": [
        "catlist = [[] for i in range(6)] #cat short for category     \n",
        "\n",
        "category = [tf.constant([1, 0, 0, 0, 0, 0],dtype= \"float32\" ),tf.constant([0, 1, 0, 0, 0, 0],dtype= \"float32\" ),tf.constant([0, 0, 1, 0, 0, 0],dtype= \"float32\" )\n",
        "            ,tf.constant([0, 0, 0, 1, 0, 0],dtype= \"float32\" ),tf.constant([0, 0, 0, 0, 1, 0],dtype= \"float32\" ),tf.constant([0, 0, 0, 0, 0, 1],dtype= \"float32\" )]\n",
        "\n",
        "\n",
        "for j in range(len(category)):\n",
        "    for i in range(len(comb_df['label_arr'])):\n",
        "        if tf.math.equal(comb_df['label_arr'][i], category[j]).numpy().all(): #Checking which category this image belongs to\n",
        "            catlist[j].append([comb_df['image_arr'][i], comb_df['label_arr'][i]])    #Append to the correct category list  \n",
        "            \n",
        "\n",
        "#Convert each to dataframe\n",
        "for j in range(len(catlist)):\n",
        "    #print(np.asarray(catlist[j]).shape)\n",
        "    catlist[j] = pd.DataFrame(catlist[j], columns = ['image_arr','label_arr'])\n",
        "    \n",
        "combined_df = pd.concat(catlist)\n"
      ],
      "execution_count": null,
      "outputs": []
    },
    {
      "cell_type": "code",
      "metadata": {
        "id": "UCF8k3VvLwoJ"
      },
      "source": [
        "catIndex = [0,0,0,0,0,0]   #The end index for each category    ###RUN THIS\n",
        "\n",
        "count = 0\n",
        "for i in range(len(combined_df['label_arr'])):\n",
        "    for j in range(len(category)):\n",
        "        if tf.math.equal(combined_df['label_arr'].iloc[i], category[j]).numpy().all(): #Checking which category this image belongs to\n",
        "            catIndex[j] = count\n",
        "            count += 1\n",
        "            break\n"
      ],
      "execution_count": null,
      "outputs": []
    },
    {
      "cell_type": "code",
      "metadata": {
        "colab": {
          "base_uri": "https://localhost:8080/"
        },
        "id": "fWQXuepGO635",
        "outputId": "d9909935-b95b-419e-dbc6-cb6b0f0fa5a5"
      },
      "source": [
        "print(catIndex)    #Each"
      ],
      "execution_count": null,
      "outputs": [
        {
          "output_type": "stream",
          "text": [
            "[2177, 4355, 6533, 8711, 10889, 13067, 15245]\n"
          ],
          "name": "stdout"
        }
      ]
    },
    {
      "cell_type": "code",
      "metadata": {
        "colab": {
          "base_uri": "https://localhost:8080/"
        },
        "id": "uYaMvjYAqsId",
        "outputId": "5ea12965-7a1c-4604-e601-0fcad24ed3a3"
      },
      "source": [
        "#Try to put 1 batch into the model    \n",
        "#So we have confirm that the array needs to be in this format: Each image needs to be in [1,244,244,3]\n",
        "#Then one set of images is [img1,img2,...img6]\n",
        "X = []\n",
        "X.append([np.expand_dims(combined_df.iloc[0].image_arr,0),np.expand_dims(combined_df.iloc[1].image_arr,0),np.expand_dims(combined_df.iloc[2].image_arr,0),np.expand_dims(combined_df.iloc[3].image_arr,0),np.expand_dims(combined_df.iloc[4].image_arr,0),np.expand_dims(combined_df.iloc[5].image_arr,0)])\n",
        "result = model.predict(X,verbose = 1) #Use verbose to get progress bar\n",
        "\n",
        "print(result)\n",
        "print(result.shape)\n",
        "print(type(result))"
      ],
      "execution_count": null,
      "outputs": [
        {
          "output_type": "stream",
          "text": [
            "1/1 [==============================] - 5s 5s/step\n",
            "[[0.15578553 0.14900102 0.13337326 0.1339922  0.12747815 0.14803176\n",
            "  0.15233806]]\n",
            "(1, 7)\n",
            "<class 'numpy.ndarray'>\n"
          ],
          "name": "stdout"
        }
      ]
    },
    {
      "cell_type": "markdown",
      "metadata": {
        "id": "obay2gMfLaDq"
      },
      "source": [
        "To make our dataset be in the consistent format as above, we run the code block below."
      ]
    },
    {
      "cell_type": "code",
      "metadata": {
        "id": "G8PSRITrLYKY"
      },
      "source": [
        "#Change all indexes with 4 dimensions to 3 dimensions\n",
        "for i in range(len(combined_df)):\n",
        "  if len(combined_df['image_arr'].iloc[i].shape) == 4:\n",
        "    combined_df['image_arr'].iloc[i] = np.squeeze(combined_df['image_arr'].iloc[i],0)"
      ],
      "execution_count": null,
      "outputs": []
    },
    {
      "cell_type": "markdown",
      "metadata": {
        "id": "8iaP3jPuLsH0"
      },
      "source": [
        "Now we need to split our dataset into training/validation and testing sets. We have to do it manually because we want to feed the images in a certain way. "
      ]
    },
    {
      "cell_type": "code",
      "metadata": {
        "colab": {
          "base_uri": "https://localhost:8080/"
        },
        "id": "p3Ly_9ewQ-ap",
        "outputId": "ab1c495a-8889-4a54-80de-2663c8033d70"
      },
      "source": [
        "# catindex = [1505, 3011, 4517, 6023, 7529, 9035]\n",
        "# To generate the random training/validation/testing sets\n",
        "# Train = 70%, validation = 15%, test = 15%. Ratio for data sets\n",
        "# Total number of rows = 9036\n",
        "totalRows = len(combined_df)\n",
        "# 1 set = 6 images\n",
        "# 1 batch = 6 sets\n",
        "# number of images each feed\n",
        "numImgPerSet = 6\n",
        "numSetPerBatch = 6\n",
        "numImgPerFeed = numImgPerSet * numSetPerBatch\n",
        "\n",
        "# Number of blocks = 9036/36 = 251\n",
        "numBlocks = int(totalRows/numImgPerFeed)\n",
        "\n",
        "indexes = list(range(numBlocks))    \n",
        "random.shuffle(indexes)     #shuffle to give randomize splitting\n",
        "\n",
        "splitIndexes1 = int(numBlocks * 0.7)    #Create the indexes for 70% training\n",
        "splitIndexes2 = int(numBlocks * 0.85)\n",
        "\n",
        "trainIndexes = indexes[:splitIndexes1]    #split according to the slice\n",
        "validationIndexes = indexes[splitIndexes1: splitIndexes2]\n",
        "testIndexes = indexes[splitIndexes2:]\n",
        "# print(trainIndexes)    #Indexes. Each indexes is telling which block to take\n",
        "# print(validationIndexes)\n",
        "# print(testIndexes)"
      ],
      "execution_count": null,
      "outputs": [
        {
          "output_type": "stream",
          "text": [
            "53\n",
            "[60, 11, 35, 40, 75, 76, 26, 34, 20, 37, 18, 50]\n",
            "[33, 41, 39, 12, 54, 21, 22, 51, 52, 49, 25, 27]\n"
          ],
          "name": "stdout"
        }
      ]
    },
    {
      "cell_type": "code",
      "metadata": {
        "id": "R_hXBHaPL5ew"
      },
      "source": [
        "#For whatever reasons we have to restart the network, use this instead of rerunning the previous cell. To ensure no leakage of samples.\n",
        "trainIndexes = [121, 248, 219, 79, 83, 144, 150, 77, 9, 37, 213, 209, 105, 199, 173, 64, 250, 116, 149, 34, 245, 148, 169, 177, 111, 232, 80, 93, 223, 206, 233, 140, 145, 31, 23, 243, 14, 95, 181, 175, 24, 67, 165, 216, 137, 78, 227, 133, 96, 97, 159, 139, 65, 226, 195, 112, 184, 201, 40, 134, 158, 68, 51, 230, 38, 28, 62, 176, 130, 54, 161, 129, 63, 212, 118, 191, 151, 125, 192, 189, 141, 215, 183, 167, 117, 72, 235, 180, 107, 103, 220, 124, 33, 30, 217, 57, 66, 89, 71, 203, 50, 205, 6, 35, 242, 231, 224, 127, 7, 98, 234, 246, 99, 225, 155, 164, 204, 228, 94, 21, 221, 114, 25, 82, 166, 214, 8, 154, 16, 170, 27, 109, 162, 3, 106, 19, 86, 123, 58, 48, 15, 207, 120, 237, 178, 153, 146, 126, 61, 108, 74, 100, 46, 194, 244, 87, 131, 69, 84, 55, 210, 193, 10, 168, 208, 152, 2, 197, 13, 91, 92, 136, 18, 11, 185]\n",
        "validationIndexes = [45, 76, 174, 211, 179, 41, 102, 186, 90, 119, 240, 218, 101, 249, 22, 12, 53, 142, 115, 163, 60, 17, 247, 238, 239, 135, 138, 236, 147, 229, 88, 42, 43, 56, 20, 196, 188, 132]\n",
        "testIndexes =  [171, 1, 200, 182, 39, 113, 70, 157, 222, 73, 81, 36, 187, 32, 44, 122, 52, 198, 143, 59, 172, 47, 75, 202, 128, 49, 5, 190, 0, 104, 160, 241, 26, 156, 4, 110, 29, 85]"
      ],
      "execution_count": null,
      "outputs": []
    },
    {
      "cell_type": "markdown",
      "metadata": {
        "id": "CwQUXh1ZMRzu"
      },
      "source": [
        "Below is the custom generator function which we used to create the data batches that flow into the network. Just a note that this code is not functioning as expected due to bugs. Future work can go into improving and resolving the issues of the epoch/batches not behaving as expected. Currently the generator does not terminate as expected."
      ]
    },
    {
      "cell_type": "code",
      "metadata": {
        "id": "u6B5ajHvzRx_"
      },
      "source": [
        "class Generator():    #For combined_df \n",
        "\n",
        "    def __init__(self, listOfIndexes, indexesType):\n",
        "        self.indexes = listOfIndexes\n",
        "        self.data_size = len(listOfIndexes)\n",
        "        self.batch_size = 1  #(6 sets of 6 images). Each batch have 36 images in total\n",
        "        self.step_ep = self.data_size//(self.batch_size) \n",
        "        self.indexesType = indexesType\n",
        "        self.numEpochs = 0\n",
        "        if self.indexesType == 'train' or self.indexesType == 'validation':\n",
        "            self.maxEpochs = 20\n",
        "        else:\n",
        "            self.maxEpochs = 1\n",
        "  \n",
        "    def generate(self):    #Will return a generator object which can give the input ([img1,img2,img3,img4,img5,img6], label)\n",
        "        random.shuffle(self.indexes)\n",
        "        currentIndexInList = 0 \n",
        "\n",
        "        while True: #self.numEpochs < self.maxEpochs:\n",
        "            for i in range(self.step_ep):\n",
        "\n",
        "\n",
        "                # Our input must be formatted: ([img1,img2,img3,img4,img5,img6], label)\n",
        "\n",
        "                # Creating a list of tensors\n",
        "                X = [] #for the images\n",
        "                Y = [] #for the labels\n",
        "\n",
        "\n",
        "                if currentIndexInList >= self.data_size:    #If already finish all of the batches, move on\n",
        "                    # This is when exhausted all the dataset for 1 epoch. Shuffle and reset current index in list\n",
        "                    random.shuffle(indexes)\n",
        "                    #print('Completed all data')\n",
        "                    currentIndexInList = 0\n",
        "                    break    #TODO: bugs here. Code below does not help to terminate at the correct number of batches\n",
        "#                     if self.numEpochs == self.maxEpochs:  //This is to stop after max epochs\n",
        "#                         print(\"Ended max epochs and finished data\")\n",
        "#                         self.numEpochs = 0\n",
        "#                         return # if this is the training batch and finished max epochs\n",
        "#                     else:\n",
        "#                         self.numEpochs+=1\n",
        "#                         self.generate()\n",
        "                else:\n",
        "                    currentIndexInDataframe = self.indexes[currentIndexInList] * numImgPerFeed  #The current index in dataframe\n",
        "\n",
        "                # Get the images\n",
        "                counterNum = 0\n",
        "                for setNum in range(6):\n",
        "                    for imgNum in range(6):\n",
        "                        if setNum == 0:\n",
        "                            if len(combined_df.iloc[currentIndexInDataframe + counterNum].image_arr.shape) == 3:       #If the image dimensions 3\n",
        "                                X.append(np.expand_dims(combined_df.iloc[currentIndexInDataframe + imgNum].image_arr,0)) \n",
        "                        else:              \n",
        "                            if len(combined_df.iloc[currentIndexInDataframe + imgNum].image_arr.shape) == 3:    #If the image dimensions 3\n",
        "                                X[imgNum] = np.append(X[imgNum], np.expand_dims(combined_df.iloc[currentIndexInDataframe + counterNum].image_arr,0),0)\n",
        "                        counterNum += 1\n",
        "\n",
        "\n",
        "                    # Get labels  \n",
        "                    if setNum == 0:\n",
        "                        labels = combined_df['label_arr'].iloc[currentIndexInDataframe]\n",
        "                        labels = expand_dims(labels,0)  \n",
        "                        Y.append(labels)   \n",
        "\n",
        "\n",
        "                # Convert each img array in X into tensor\n",
        "                for i in range(6):\n",
        "                    X[i] = tf.convert_to_tensor(X[i])\n",
        "\n",
        "                currentIndexInList += 1 #Move to next batch\n",
        "                yield X,Y[0] #index 0 just to remove outer brackets\n",
        "        "
      ],
      "execution_count": null,
      "outputs": []
    },
    {
      "cell_type": "code",
      "metadata": {
        "id": "TdiSy_hpsYsC"
      },
      "source": [
        "# Create the generator for datasets \n",
        "\n",
        "# We ignore this because the fine tuning has too little data to train properly. We will reuse the training set during fine tuning. \n",
        "# splitIndexes1 = int(len(trainIndexes) * 0.8)    #Reserve 20% of training set for fine tuning.\n",
        "# trainIndexes = trainIndexes[:splitIndexes1]\n",
        "# fineTuningIndexes = trainIndexes[splitIndexes1:]\n",
        "\n",
        "testGenerator = Generator(testIndexes, \"test\")    #The generator for the test dataset. This will provide the inputs for test\n",
        "testBatches = testGenerator.generate()    #Create the generator\n",
        "trainGenerator = Generator(trainIndexes, \"train\")    \n",
        "trainBatches = trainGenerator.generate()\n",
        "validationGenerator = Generator(validationIndexes, \"validation\")    \n",
        "validationBatches = validationGenerator.generate()"
      ],
      "execution_count": null,
      "outputs": []
    },
    {
      "cell_type": "code",
      "metadata": {
        "id": "wdYEiNjeemur"
      },
      "source": [
        "next(trainBatches)"
      ],
      "execution_count": null,
      "outputs": []
    },
    {
      "cell_type": "markdown",
      "metadata": {
        "id": "fkkYwQrFaaWH"
      },
      "source": [
        "# 2. Network Training/Testing"
      ]
    },
    {
      "cell_type": "markdown",
      "metadata": {
        "id": "FRPKDriEhaZ4"
      },
      "source": [
        "Cannot use a CNN only since majority of the frames do not contain the emotion only since non-peak expression. Must use a network which contains a temporal model like RNN. Because of this we are using Kuo at al which have 6 images as input and give a prediction of the recognized emotion during that time frame.  "
      ]
    },
    {
      "cell_type": "code",
      "metadata": {
        "id": "RJ2AIXleh1VO"
      },
      "source": [
        "#Load the trained model ###RUN THIS AND ALL BELOW EXCEPT FOR REFERENCES\n",
        "#From: https://github.com/WeidiXie/Keras-VGGFace2-ResNet50. Note: remember to do proper citation\n",
        "# @InProceedings{Cao18,\n",
        "#   author       = \"Q. Cao, L. Shen, W. Xie, O. M. Parkhi, A. Zisserman \",\n",
        "#   title        = \"VGGFace2: A dataset for recognising face across pose and age\",\n",
        "#   booktitle    = \"International Conference on Automatic Face and Gesture Recognition, 2018.\",\n",
        "#   year         = \"2018\",\n",
        "# }\n",
        "\n",
        "from tensorflow import keras\n",
        "trainedModel = keras.models.load_model(\"/content/drive/Shareddrives/Final Year Project/CS 2/vggface2_Keras/vggface2_Keras/model/resnet50_softmax_dim512/weights.h5\")\n"
      ],
      "execution_count": null,
      "outputs": []
    },
    {
      "cell_type": "code",
      "metadata": {
        "id": "IGIAqbGDoe93"
      },
      "source": [
        "#Get the summary of trained model\n",
        "print(trainedModel.summary())"
      ],
      "execution_count": null,
      "outputs": []
    },
    {
      "cell_type": "code",
      "metadata": {
        "id": "sBrpsbwzmvzX"
      },
      "source": [
        "# Freeze all the layers of trained model\n",
        "trainedModel.trainable = False"
      ],
      "execution_count": null,
      "outputs": []
    },
    {
      "cell_type": "code",
      "metadata": {
        "id": "YuLihY9dYyvk"
      },
      "source": [
        "#Reference: https://stackoverflow.com/questions/48018457/removing-layers-from-a-pretrained-keras-model-gives-the-same-output-as-original\n",
        "from tensorflow.keras.models import Model\n",
        "\n",
        "trainedModel = Model(trainedModel.input, trainedModel.layers[-2].output) #Remove the last layer (ignoring last layer by taking 2nd last layer output).\n",
        "#TODO: Can try removing the last 2 layers.\n",
        "print(trainedModel.summary())"
      ],
      "execution_count": null,
      "outputs": []
    },
    {
      "cell_type": "markdown",
      "metadata": {
        "id": "CsVaAlQENpS7"
      },
      "source": [
        "Below we create a custom DL network which takes the trained model and follow Kuo et al with 6 images as input and also a GRU layer just before predictions. "
      ]
    },
    {
      "cell_type": "code",
      "metadata": {
        "colab": {
          "base_uri": "https://localhost:8080/"
        },
        "id": "Oz-V4m8pWg8m",
        "outputId": "44e12ce2-e9d6-42cd-fdc3-34828bb54303"
      },
      "source": [
        "# Reference: \n",
        "# https://stackoverflow.com/questions/60582442/multiple-image-input-for-keras-application\n",
        "# https://stackoverflow.com/questions/58794981/is-it-possible-to-create-multiple-instances-of-the-same-cnn-that-take-in-multipl\n",
        "\n",
        "\n",
        "# Each input for each image. 224x224 rgb image\n",
        "inp1 = Input((224,224,3))\n",
        "inp2 = Input((224,224,3))\n",
        "inp3 = Input((224,224,3))\n",
        "inp4 = Input((224,224,3))\n",
        "inp5 = Input((224,224,3))\n",
        "inp6 = Input((224,224,3))\n",
        "\n",
        "# Put each image into the trained model\n",
        "out1 = trainedModel(inp1)\n",
        "out2 = trainedModel(inp2)\n",
        "out3 = trainedModel(inp3)\n",
        "out4 = trainedModel(inp4)\n",
        "out5 = trainedModel(inp5)\n",
        "out6 = trainedModel(inp6)\n",
        "\n",
        "# Since removed the last layer of the trained CNN, attach a new dense layer to classify into the 7 emotion categories.\n",
        "dense = Dense(6, activation='softmax')\n",
        "\n",
        "dout1 = dense(out1)\n",
        "dout2 = dense(out2)\n",
        "dout3 = dense(out3)\n",
        "dout4 = dense(out4)\n",
        "dout5 = dense(out5)\n",
        "dout6 = dense(out6)\n",
        "\n",
        "# Concatenating the final output\n",
        "out = Concatenate(axis=-1)([dout1, dout2, dout3, dout4, dout5, dout6])\n",
        "# Have to reshape the 2d output into a 3d output because GRU requires 3d shape.\n",
        "out = Reshape((6, 6), input_shape=(36,))(out)\n",
        "\n",
        "\n",
        "# GRU layer\n",
        "model = GRU(128)(out)\n",
        "outputs = Dense(6,activation = \"softmax\")(model)    #Give probability for each category\n",
        "model = Model([inp1,inp2,inp3,inp4,inp5,inp6], outputs)\n",
        "\n",
        "print(model.summary())"
      ],
      "execution_count": null,
      "outputs": [
        {
          "output_type": "stream",
          "text": [
            "Model: \"model_1\"\n",
            "__________________________________________________________________________________________________\n",
            "Layer (type)                    Output Shape         Param #     Connected to                     \n",
            "==================================================================================================\n",
            "input_1 (InputLayer)            [(None, 224, 224, 3) 0                                            \n",
            "__________________________________________________________________________________________________\n",
            "input_2 (InputLayer)            [(None, 224, 224, 3) 0                                            \n",
            "__________________________________________________________________________________________________\n",
            "input_3 (InputLayer)            [(None, 224, 224, 3) 0                                            \n",
            "__________________________________________________________________________________________________\n",
            "input_4 (InputLayer)            [(None, 224, 224, 3) 0                                            \n",
            "__________________________________________________________________________________________________\n",
            "input_5 (InputLayer)            [(None, 224, 224, 3) 0                                            \n",
            "__________________________________________________________________________________________________\n",
            "input_6 (InputLayer)            [(None, 224, 224, 3) 0                                            \n",
            "__________________________________________________________________________________________________\n",
            "model (Functional)              (None, 512)          24610240    input_1[0][0]                    \n",
            "                                                                 input_2[0][0]                    \n",
            "                                                                 input_3[0][0]                    \n",
            "                                                                 input_4[0][0]                    \n",
            "                                                                 input_5[0][0]                    \n",
            "                                                                 input_6[0][0]                    \n",
            "__________________________________________________________________________________________________\n",
            "dense (Dense)                   (None, 7)            3591        model[0][0]                      \n",
            "                                                                 model[1][0]                      \n",
            "                                                                 model[2][0]                      \n",
            "                                                                 model[3][0]                      \n",
            "                                                                 model[4][0]                      \n",
            "                                                                 model[5][0]                      \n",
            "__________________________________________________________________________________________________\n",
            "concatenate (Concatenate)       (None, 42)           0           dense[0][0]                      \n",
            "                                                                 dense[1][0]                      \n",
            "                                                                 dense[2][0]                      \n",
            "                                                                 dense[3][0]                      \n",
            "                                                                 dense[4][0]                      \n",
            "                                                                 dense[5][0]                      \n",
            "__________________________________________________________________________________________________\n",
            "reshape (Reshape)               (None, 6, 7)         0           concatenate[0][0]                \n",
            "__________________________________________________________________________________________________\n",
            "gru (GRU)                       (None, 128)          52608       reshape[0][0]                    \n",
            "__________________________________________________________________________________________________\n",
            "dense_1 (Dense)                 (None, 7)            903         gru[0][0]                        \n",
            "==================================================================================================\n",
            "Total params: 24,667,342\n",
            "Trainable params: 57,102\n",
            "Non-trainable params: 24,610,240\n",
            "__________________________________________________________________________________________________\n",
            "None\n"
          ],
          "name": "stdout"
        }
      ]
    },
    {
      "cell_type": "markdown",
      "metadata": {
        "id": "5aJfjKOdN16_"
      },
      "source": [
        "Our model looks something like below. "
      ]
    },
    {
      "cell_type": "code",
      "metadata": {
        "colab": {
          "base_uri": "https://localhost:8080/",
          "height": 641
        },
        "id": "-YEqvOdF3maX",
        "outputId": "348e1f03-6102-486e-9293-b6786d4a8c93"
      },
      "source": [
        "from keras.utils.vis_utils import plot_model\n",
        "plot_model(model) #, to_file='/content/drive/Shareddrives/Final Year Project/CS 2/model.png')"
      ],
      "execution_count": null,
      "outputs": [
        {
          "output_type": "execute_result",
          "data": {
            "image/png": "[encoded data removed]",
            "text/plain": [
              "<IPython.core.display.Image object>"
            ]
          },
          "metadata": {
            "tags": []
          },
          "execution_count": 44
        }
      ]
    },
    {
      "cell_type": "code",
      "metadata": {
        "id": "fTAH0qqtqJpO"
      },
      "source": [
        "#Reference: https://stats.stackexchange.com/questions/153531/what-is-batch-size-in-neural-network\n",
        "# In the neural network terminology:\n",
        "\n",
        "# one epoch = one forward pass and one backward pass of all the training examples\n",
        "# batch size = the number of training examples in one forward/backward pass. The higher the batch size, the more memory space you'll need.\n",
        "# number of iterations = number of passes, each pass using [batch size] number of examples. To be clear, one pass = one forward pass + one backward pass (we do not count the forward pass and backward pass as two different passes).\n",
        "# Example: if you have 1000 training examples, and your batch size is 500, then it will take 2 iterations to complete 1 epoch."
      ],
      "execution_count": null,
      "outputs": []
    },
    {
      "cell_type": "code",
      "metadata": {
        "id": "lSb4y2DDyxEh"
      },
      "source": [
        "#Train with a portion of the training data first \n",
        "from tensorflow.keras.callbacks import EarlyStopping\n",
        "from tensorflow.keras.callbacks import ModelCheckpoint"
      ],
      "execution_count": null,
      "outputs": []
    },
    {
      "cell_type": "code",
      "metadata": {
        "colab": {
          "background_save": true
        },
        "id": "j18rrUv4PCnJ"
      },
      "source": [
        "#Kuo: adam optimizer, 10000 iter, 2000 epochs, best validation accuracy , fixed learning rate =  0.01\n",
        "\n",
        "#Compile\n",
        "\n",
        "earlyStopping = EarlyStopping(monitor='val_loss', patience=3, verbose=0, mode='min')\n",
        "mcp_save = ModelCheckpoint(filepath='/content/drive/Shareddrives/Final Year Project/CS 2/Deep Learning/model.{epoch:02d}-{val_loss:.2f}.h5', save_best_only=True, monitor='val_loss', mode='min')\n",
        "\n",
        "model.compile(optimizer= 'adam', loss='categorical_crossentropy', metrics=['accuracy'])\n",
        "\n",
        "\n",
        "#Fit# Kuo: adam optimizer, 10000 iter, 2000 epochs, best validation accuracy , fixed learning rate =  0.01\n",
        "\n",
        "# Compile\n",
        "\n",
        "earlyStopping = EarlyStopping(monitor='accuracy', patience=3, verbose=0, mode='max')\n",
        "mcp_save = ModelCheckpoint(filepath='Models/checkpoint-{epoch:02d}-{accuracy:.2f}.hdf5', save_best_only=True, monitor='accuracy', mode='max')\n",
        "\n",
        "model.compile(optimizer= 'adam', loss='categorical_crossentropy', metrics=['accuracy'])\n",
        "\n",
        "\n",
        "# Fit  (, steps_per_epoch=trainGenerator.step_ep) omitted this <- (Another version of progress bar: TqdmCallback(verbose=2))\n",
        "history = model.fit(x = trainBatches, validation_data = validationBatches, epochs = 10,verbose=1, callbacks=[earlyStopping, mcp_save], steps_per_epoch=trainGenerator.step_ep)\n",
        "\n",
        "test_loss, test_acc = model.evaluate(testBatches, verbose=1)\n",
        "print(\"Test acc is {}\".format(test_acc))\n",
        "\n",
        "model.save('Models/savedManually.h5')\n",
        "history = model.fit(x = trainBatches, validation_data = validationBatches, epochs = 10,verbose=1, callbacks=[earlyStopping, mcp_save], steps_per_epoch=trainGenerator.step_ep, use_multiprocessing= True)\n",
        "\n",
        "test_loss, test_acc = model.evaluate(testBatches, verbose=1)\n",
        "print(\"Test acc is {}\".format(test_acc))\n",
        "\n",
        "model.save('/content/drive/Shareddrives/Final Year Project/CS 2/Deep Learning/SavedManually/savedModel.h5')"
      ],
      "execution_count": null,
      "outputs": []
    },
    {
      "cell_type": "code",
      "metadata": {
        "id": "w9BQLC3ClYww"
      },
      "source": [
        "#Plotting\n",
        "fig, ax1 = plt.subplots()\n",
        "ax2 = ax1.twinx()\n",
        "ax1.plot(history.history['accuracy'], label='train accuracy', color='green', marker=\"o\")\n",
        "ax1.plot(history.history['val_accuracy'], label='valid accuracy', color='blue', marker = \"v\")\n",
        "ax2.plot(history.history['loss'], label = 'train loss', color='orange', marker=\"o\")\n",
        "ax2.plot(history.history['val_loss'], label = 'valid loss', color='red', marker = \"v\")\n",
        "ax1.legend(loc=3)\n",
        "\n",
        "ax1.set_xlabel('Epochs')\n",
        "ax1.set_ylabel('Accuracy', color='g')\n",
        "ax2.set_ylabel('Loss', color='b')\n",
        "ax2.legend(loc=4)\n",
        "plt.ylim([0.6, 2.5])\n",
        "plt.show()"
      ],
      "execution_count": null,
      "outputs": []
    },
    {
      "cell_type": "markdown",
      "metadata": {
        "id": "xaAldi2LOiT-"
      },
      "source": [
        "After the training, we can load the best saved model and perform fine tuning. "
      ]
    },
    {
      "cell_type": "markdown",
      "metadata": {
        "id": "ajI_Kie-gmlg"
      },
      "source": [
        "Potential drawbacks:\n",
        "\n",
        "1.   Not using grayscale images\n",
        "2.   Not standardizing the images (divide by certain value)\n",
        "3.  Have not done Principle Component Analysis.\n",
        "4. Did not use Weight initializer for the layers.\n",
        "5. Did not remove non peak expressions."
      ]
    }
  ]
}